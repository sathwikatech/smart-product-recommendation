
{
 "cells": [
  {
   "cell_type": "markdown",
   "metadata": {},
   "source": [
    "# Smart Product Recommendation System"
   ]
  },
  {
   "cell_type": "code",
   "execution_count": null,
   "metadata": {},
   "outputs": [],
   "source": [
    "import pandas as pd\n",
    "from sklearn.metrics.pairwise import cosine_similarity\n",
    "from sklearn.preprocessing import StandardScaler\n",
    "\n",
    "# Load data\n",
    "df = pd.read_csv('sample_data.csv')\n",
    "\n",
    "# Create pivot table\n",
    "pivot = df.pivot_table(index='User', columns='Product', values='Rating').fillna(0)\n",
    "\n",
    "# Compute similarity\n",
    "similarity = cosine_similarity(pivot)\n",
    "similarity_df = pd.DataFrame(similarity, index=pivot.index, columns=pivot.index)\n",
    "\n",
    "# Recommend similar users\n",
    "def recommend(user_id):\n",
    "    sim_scores = similarity_df[user_id].sort_values(ascending=False)\n",
    "    sim_scores = sim_scores.drop(user_id)\n",
    "    print(f'Users similar to {user_id}:\n', sim_scores.head())\n",
    "\n",
    "# Example\n",
    "recommend('User1')"
   ]
  }
 ],
 "metadata": {
  "kernelspec": {
   "display_name": "Python 3",
   "language": "python",
   "name": "python3"
  },
  "language_info": {
   "name": "python",
   "version": "3.8"
  }
 },
 "nbformat": 4,
 "nbformat_minor": 2
}
